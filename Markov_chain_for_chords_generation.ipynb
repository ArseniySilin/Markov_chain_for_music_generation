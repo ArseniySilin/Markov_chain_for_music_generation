{
 "cells": [
  {
   "cell_type": "markdown",
   "metadata": {},
   "source": [
    "# Markov chain-based approach for the music generation"
   ]
  },
  {
   "cell_type": "code",
   "execution_count": 9,
   "metadata": {},
   "outputs": [],
   "source": [
    "import numpy as np\n",
    "import pandas as pd\n",
    "from collections import Counter\n",
    "np.random.seed(42)\n",
    "\n",
    "# read file\n",
    "data = pd.read_csv('data/Liverpool_band_chord_sequence.csv')"
   ]
  },
  {
   "cell_type": "markdown",
   "metadata": {},
   "source": [
    "## Generate bigrams"
   ]
  },
  {
   "cell_type": "code",
   "execution_count": 10,
   "metadata": {},
   "outputs": [
    {
     "data": {
      "text/plain": [
       "['F Em7', 'Em7 A7', 'A7 Dm', 'Dm Dm7', 'Dm7 Bb']"
      ]
     },
     "execution_count": 10,
     "metadata": {},
     "output_type": "execute_result"
    }
   ],
   "source": [
    "n = 2\n",
    "chords = data['chords'].values\n",
    "ngrams = zip(*[chords[i:] for i in range(n)])\n",
    "bigrams = [\" \".join(ngram) for ngram in ngrams]\n",
    "\n",
    "bigrams[:5]"
   ]
  },
  {
   "cell_type": "markdown",
   "metadata": {},
   "source": [
    "## Predict next state with Markov chain"
   ]
  },
  {
   "cell_type": "code",
   "execution_count": 11,
   "metadata": {},
   "outputs": [],
   "source": [
    "def predict_next_state(chord:str, data:list=bigrams):\n",
    "    \"\"\"Predict next chord based on current state.\"\"\"\n",
    "    # create list of bigrams which stats with current chord\n",
    "    bigrams_with_current_chord = [bigram for bigram in bigrams if bigram.split(' ')[0]==chord]\n",
    "    # count appearance of each bigram\n",
    "    count_appearance = dict(Counter(bigrams_with_current_chord))\n",
    "    # convert apperance into probabilities\n",
    "    for ngram in count_appearance.keys():\n",
    "        count_appearance[ngram] = count_appearance[ngram]/len(bigrams_with_current_chord)\n",
    "    # create list of possible options for the next chord\n",
    "    options = [key.split(' ')[1] for key in count_appearance.keys()]\n",
    "    # create  list of probability distribution\n",
    "    probabilities = list(count_appearance.values())\n",
    "    # return random prediction\n",
    "    return np.random.choice(options, p=probabilities)"
   ]
  },
  {
   "cell_type": "code",
   "execution_count": 12,
   "metadata": {},
   "outputs": [
    {
     "data": {
      "text/plain": [
       "'C'"
      ]
     },
     "execution_count": 12,
     "metadata": {},
     "output_type": "execute_result"
    }
   ],
   "source": [
    "# example\n",
    "predict_next_state('F')"
   ]
  },
  {
   "cell_type": "markdown",
   "metadata": {},
   "source": [
    "## Generate sequence"
   ]
  },
  {
   "cell_type": "code",
   "execution_count": 15,
   "metadata": {},
   "outputs": [],
   "source": [
    "def generate_sequence(chord:str=None, data:list=bigrams, length:int=30):\n",
    "    \"\"\"Generate sequence of defined length.\"\"\"\n",
    "    # create list to store future chords\n",
    "    chords = []\n",
    "    for n in range(length):\n",
    "        # append next chord for the list\n",
    "        chords.append(predict_next_state(chord, bigrams))\n",
    "        # use last chord in sequence to predict next chord\n",
    "        chord = chords[-1]\n",
    "    return chords"
   ]
  },
  {
   "cell_type": "code",
   "execution_count": 16,
   "metadata": {},
   "outputs": [
    {
     "data": {
      "text/plain": [
       "['Bb',\n",
       " 'Dm',\n",
       " 'C',\n",
       " 'Dm7',\n",
       " 'Bb',\n",
       " 'C7',\n",
       " 'F',\n",
       " 'F',\n",
       " 'A7sus4',\n",
       " 'A7',\n",
       " 'Dm',\n",
       " 'Gm6',\n",
       " 'C7',\n",
       " 'F',\n",
       " 'Em7',\n",
       " 'A7',\n",
       " 'Dm',\n",
       " 'C',\n",
       " 'Dm7',\n",
       " 'G7',\n",
       " 'Bb',\n",
       " 'C7',\n",
       " 'F',\n",
       " 'F',\n",
       " 'A7sus4',\n",
       " 'A7',\n",
       " 'Dm',\n",
       " 'C',\n",
       " 'Dm7',\n",
       " 'G7']"
      ]
     },
     "execution_count": 16,
     "metadata": {},
     "output_type": "execute_result"
    }
   ],
   "source": [
    "generate_sequence('C')"
   ]
  }
 ],
 "metadata": {
  "kernelspec": {
   "display_name": "Python 3",
   "language": "python",
   "name": "python3"
  },
  "language_info": {
   "codemirror_mode": {
    "name": "ipython",
    "version": 3
   },
   "file_extension": ".py",
   "mimetype": "text/x-python",
   "name": "python",
   "nbconvert_exporter": "python",
   "pygments_lexer": "ipython3",
   "version": "3.7.3"
  }
 },
 "nbformat": 4,
 "nbformat_minor": 2
}
